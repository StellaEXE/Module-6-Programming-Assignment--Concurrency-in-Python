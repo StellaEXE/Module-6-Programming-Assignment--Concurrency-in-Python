{
 "cells": [
  {
   "cell_type": "code",
   "execution_count": 7,
   "id": "b1995f4f-c422-4ea5-960c-e688b08ee187",
   "metadata": {},
   "outputs": [
    {
     "name": "stdout",
     "output_type": "stream",
     "text": [
      "Current date written to file: 2025-09-29\n",
      "Content read from file: 2025-09-29\n",
      "Parsed date from string: 2025-09-29\n"
     ]
    }
   ],
   "source": [
    "import datetime\n",
    "\n",
    "# 13.1 Write the current date as a string to the text file today.txt.\n",
    "current_date = datetime.date.today()\n",
    "date_string = str(current_date)\n",
    "with open('today.txt', 'w') as file:\n",
    "    file.write(date_string)\n",
    "\n",
    "# 13.2 Read the text file today.txt into the string today_string.\n",
    "with open('today.txt', 'r') as file:\n",
    "    today_string = file.read()\n",
    "\n",
    "# 13.3 Parse the date from today_string.\n",
    "parsed_date = datetime.datetime.strptime(today_string, '%Y-%m-%d').date()\n",
    "\n",
    "print(f\"Current date written to file: {date_string}\")\n",
    "print(f\"Content read from file: {today_string}\")\n",
    "print(f\"Parsed date from string: {parsed_date}\")    "
   ]
  },
  {
   "cell_type": "code",
   "execution_count": 27,
   "id": "e04ac371-7ec9-4040-a099-a456e33758c9",
   "metadata": {},
   "outputs": [
    {
     "name": "stdout",
     "output_type": "stream",
     "text": [
      "Completed\n"
     ]
    }
   ],
   "source": [
    "import multiprocessing\n",
    "from datetime import datetime\n",
    "import time\n",
    "import random\n",
    "\n",
    "# 15.1 Use multiprocessing to create three separate processes. Make each one wait a random number of seconds between zero and one, print the current time, and then exit.\n",
    "def print_time():\n",
    "    time.sleep(random.random())    \n",
    "    now = datetime.now()\n",
    "    print(\"Today's date and time is {}\".format(now))\n",
    "\n",
    "\n",
    "if __name__ == '__main__':\n",
    "    proc1 = multiprocessing.Process(target=print_time)\n",
    "    proc2 = multiprocessing.Process(target=print_time)\n",
    "    proc3 = multiprocessing.Process(target=print_time)\n",
    "    proc1.start()\n",
    "    proc2.start()\n",
    "    proc3.start()\n",
    "    proc1.join()\n",
    "    proc2.join()\n",
    "    proc3.join()\n",
    "    \n",
    "    print('Completed')"
   ]
  },
  {
   "cell_type": "code",
   "execution_count": null,
   "id": "bb8fce20-f1d3-4ca8-99e3-9a74c339321b",
   "metadata": {},
   "outputs": [],
   "source": []
  }
 ],
 "metadata": {
  "kernelspec": {
   "display_name": "Python [conda env:base] *",
   "language": "python",
   "name": "conda-base-py"
  },
  "language_info": {
   "codemirror_mode": {
    "name": "ipython",
    "version": 3
   },
   "file_extension": ".py",
   "mimetype": "text/x-python",
   "name": "python",
   "nbconvert_exporter": "python",
   "pygments_lexer": "ipython3",
   "version": "3.13.5"
  }
 },
 "nbformat": 4,
 "nbformat_minor": 5
}
